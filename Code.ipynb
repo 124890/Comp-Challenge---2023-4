{
 "cells": [
  {
   "cell_type": "code",
   "execution_count": null,
   "metadata": {},
   "outputs": [],
   "source": [
    "import pandas as pd\n",
    "import numpy as np\n",
    "import matplotlib.pyplot as plt\n",
    "import seaborn as sns\n",
    "\n",
    "#import data from the files\n",
    "dataset = pd.read_csv('Concrete_database.csv')\n",
    "\n",
    "#Data Preprocessing\n",
    "#format as a dataframe\n",
    "dataset = pd.DataFrame(dataset)#\n",
    "#check for null values\n",
    "dataset.isnull().sum()\n",
    "#check for duplicates\n",
    "dataset.duplicated().sum()\n",
    "#check for data types\n",
    "dataset.dtypes\n",
    "\n",
    "print(dataset.head(5))\n",
    "\n"
   ]
  }
 ],
 "metadata": {
  "language_info": {
   "name": "python"
  }
 },
 "nbformat": 4,
 "nbformat_minor": 2
}
