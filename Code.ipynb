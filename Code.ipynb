{
 "cells": [
  {
   "cell_type": "markdown",
   "metadata": {},
   "source": [
    "### Importing libraries\n",
    "\n",
    "    This section imports all libraries utilised within the programme"
   ]
  },
  {
   "cell_type": "code",
   "execution_count": 9,
   "metadata": {},
   "outputs": [],
   "source": [
    "import pandas as pd\n",
    "import numpy as np\n",
    "import matplotlib.pyplot as plt\n",
    "import seaborn as sns\n",
    "import sklearn\n",
    "import scipy"
   ]
  },
  {
   "cell_type": "markdown",
   "metadata": {},
   "source": [
    "### File importing and preprocessing data\n",
    "    This section imports all libraries utilised within the programme"
   ]
  },
  {
   "cell_type": "code",
   "execution_count": 8,
   "metadata": {},
   "outputs": [
    {
     "name": "stdout",
     "output_type": "stream",
     "text": [
      "   cement   slag  flyash  water  superplasticizer  coarseaggregate  \\\n",
      "0   540.0    0.0     0.0  162.0               2.5           1040.0   \n",
      "1   540.0    0.0     0.0  162.0               2.5           1055.0   \n",
      "2   332.5  142.5     0.0  228.0               0.0            932.0   \n",
      "3   332.5  142.5     0.0  228.0               0.0            932.0   \n",
      "4   198.6  132.4     0.0  192.0               0.0            978.4   \n",
      "\n",
      "   fineaggregate    age  csMPa  \n",
      "0          676.0   28.0  79.99  \n",
      "1          676.0   28.0  61.89  \n",
      "2          594.0  270.0  40.27  \n",
      "3          594.0    NaN  41.05  \n",
      "4          825.5  360.0  44.30  \n"
     ]
    }
   ],
   "source": [
    "#import data from the files\n",
    "dataset = pd.read_csv('Concrete_Data_Yeh_final.csv')\n",
    "\n",
    "#Data Preprocessing\n",
    "#format as a dataframe\n",
    "dataset = pd.DataFrame(dataset)#\n",
    "#check for null values\n",
    "dataset.isnull().sum()\n",
    "#check for duplicates\n",
    "dataset.duplicated().sum()\n",
    "#check for data types\n",
    "dataset.dtypes\n",
    "\n",
    "print(dataset.head(5))\n",
    "\n"
   ]
  },
  {
   "cell_type": "code",
   "execution_count": null,
   "metadata": {},
   "outputs": [],
   "source": [
    "#split into training and test sets\n",
    "from sklearn.model_selection import train_test_split\n",
    "X = dataset.iloc[:, :-1].values\n",
    "y = dataset.iloc[:, 8].values\n",
    "X_train, X_test, y_train, y_test = train_test_split(X, y, test_size=0.2, random_state=0)\n",
    "\n"
   ]
  },
  {
   "cell_type": "markdown",
   "metadata": {},
   "source": [
    "### Regression functions\n",
    "\n",
    "    This section defines functions for various regression functions which are later compared to choose the most effective model"
   ]
  },
  {
   "cell_type": "code",
   "execution_count": 4,
   "metadata": {},
   "outputs": [
    {
     "ename": "NameError",
     "evalue": "name 'dataset' is not defined",
     "output_type": "error",
     "traceback": [
      "\u001b[1;31m---------------------------------------------------------------------------\u001b[0m",
      "\u001b[1;31mNameError\u001b[0m                                 Traceback (most recent call last)",
      "\u001b[1;32mc:\\Users\\dougl\\Documents\\GitHub\\Comp-Challenge---2023-4\\Code.ipynb Cell 3\u001b[0m line \u001b[0;36m2\n\u001b[0;32m     <a href='vscode-notebook-cell:/c%3A/Users/dougl/Documents/GitHub/Comp-Challenge---2023-4/Code.ipynb#W2sZmlsZQ%3D%3D?line=21'>22</a>\u001b[0m     \u001b[39mprint\u001b[39m(\u001b[39m\"\u001b[39m\u001b[39mMean Absolute Error:\u001b[39m\u001b[39m\"\u001b[39m, mean_absolute_error(y_test, y_pred))\n\u001b[0;32m     <a href='vscode-notebook-cell:/c%3A/Users/dougl/Documents/GitHub/Comp-Challenge---2023-4/Code.ipynb#W2sZmlsZQ%3D%3D?line=23'>24</a>\u001b[0m     \u001b[39mreturn\u001b[39;00m y_pred\n\u001b[1;32m---> <a href='vscode-notebook-cell:/c%3A/Users/dougl/Documents/GitHub/Comp-Challenge---2023-4/Code.ipynb#W2sZmlsZQ%3D%3D?line=25'>26</a>\u001b[0m X \u001b[39m=\u001b[39m dataset\u001b[39m.\u001b[39miloc[:, :\u001b[39m-\u001b[39m\u001b[39m1\u001b[39m]\u001b[39m.\u001b[39mvalues\n\u001b[0;32m     <a href='vscode-notebook-cell:/c%3A/Users/dougl/Documents/GitHub/Comp-Challenge---2023-4/Code.ipynb#W2sZmlsZQ%3D%3D?line=26'>27</a>\u001b[0m y \u001b[39m=\u001b[39m dataset\u001b[39m.\u001b[39miloc[:, \u001b[39m-\u001b[39m\u001b[39m1\u001b[39m]\u001b[39m.\u001b[39mvalues\n\u001b[0;32m     <a href='vscode-notebook-cell:/c%3A/Users/dougl/Documents/GitHub/Comp-Challenge---2023-4/Code.ipynb#W2sZmlsZQ%3D%3D?line=27'>28</a>\u001b[0m \u001b[39mprint\u001b[39m(linear_regression(X, y))\n",
      "\u001b[1;31mNameError\u001b[0m: name 'dataset' is not defined"
     ]
    }
   ],
   "source": [
    "# Build a regressor using sci-kit learn functionalities, including the rational choice of a regression algorithm, data splitting, training, testing, and analysis of the hyper-parameter choices. Justify the choice of algorithm and parameters with an analysis of their effect.\n",
    "def linear_regression(X, y):\n",
    "    # Splitting the data\n",
    "    X_train, X_test, y_train, y_test = train_test_split(X, y, test_size = 0.25, random_state = 0)\n",
    "\n",
    "    # Creating the Linear Regression model\n",
    "    regressor = LinearRegression()\n",
    "\n",
    "    # Fitting the data\n",
    "    regressor.fit(X_train, y_train)\n",
    "\n",
    "    # Predicting the data\n",
    "    y_pred = regressor.predict(X_test)\n",
    "\n",
    "    # Calculating the r2 score\n",
    "    print(\"R2 Score:\", r2_score(y_test, y_pred))\n",
    "\n",
    "    # Calculating the mean squared error\n",
    "    print(\"Mean Squared Error:\", mean_squared_error(y_test, y_pred))\n",
    "\n",
    "    # Calculating the mean absolute error\n",
    "    print(\"Mean Absolute Error:\", mean_absolute_error(y_test, y_pred))\n",
    "\n",
    "    return y_pred"
   ]
  },
  {
   "cell_type": "code",
   "execution_count": null,
   "metadata": {},
   "outputs": [],
   "source": [
    "def decision_tree_regression(X, y):\n",
    "    # Splitting the data\n",
    "    X_train, X_test, y_train, y_test = train_test_split(X, y, test_size = 0.25, random_state = 0)\n",
    "\n",
    "    # Creating the Decision Tree regressor\n",
    "    regressor = DecisionTreeRegressor()\n",
    "\n",
    "    # Fitting the data\n",
    "    regressor.fit(X_train, y_train)\n",
    "\n",
    "    # Predicting the data\n",
    "    y_pred = regressor.predict(X_test)\n",
    "\n",
    "    # Calculating the r2 score\n",
    "    print(\"R2 Score:\", r2_score(y_test, y_pred))\n",
    "\n",
    "    # Calculating the mean squared error\n",
    "    print(\"Mean Squared Error:\", mean_squared_error(y_test, y_pred))\n",
    "\n",
    "    # Calculating the mean absolute error\n",
    "    print(\"Mean Absolute Error:\", mean_absolute_error(y_test, y_pred))\n",
    "\n",
    "    return y_pred"
   ]
  },
  {
   "cell_type": "code",
   "execution_count": null,
   "metadata": {},
   "outputs": [],
   "source": [
    "from sklearn.ensemble import RandomForestRegressor\n",
    "\n",
    "def random_forest_regression(X, y):\n",
    "    # Splitting the data\n",
    "    X_train, X_test, y_train, y_test = train_test_split(X, y, test_size = 0.25, random_state = 0)\n",
    "\n",
    "    # Creating the Random Forest Regressor\n",
    "    regressor = RandomForestRegressor(n_estimators = 100, random_state = 0)\n",
    "\n",
    "    # Fitting the data\n",
    "    regressor.fit(X_train, y_train)\n",
    "\n",
    "    # Predicting the data\n",
    "    y_pred = regressor.predict(X_test)\n",
    "\n",
    "    # Calculating the r2 score\n",
    "    print(\"R2 Score:\", r2_score(y_test, y_pred))\n",
    "\n",
    "    # Calculating the mean squared error\n",
    "    print(\"Mean Squared Error:\", mean_squared_error(y_test, y_pred))\n",
    "\n",
    "    # Calculating the mean absolute error\n",
    "    print(\"Mean Absolute Error:\", mean_absolute_error(y_test, y_pred))\n",
    "\n",
    "    return y_pred"
   ]
  },
  {
   "cell_type": "markdown",
   "metadata": {},
   "source": [
    "### Model Evaluation\n",
    "\n",
    "    This section analyses the performance of each regression model to determine which technique most accuratley predicts compressive strength\n",
    " \n",
    "This section analyses the performance of each regression model to determine which technique most accuratley predicts compressive strength\n",
    "    \n",
    "    \n",
    "    "
   ]
  },
  {
   "cell_type": "code",
   "execution_count": null,
   "metadata": {},
   "outputs": [],
   "source": [
    "from sklearn.linear_model import LinearRegression, Lasso, ElasticNet\n",
    "\n",
    "def test_each_column_with_models(dataset):\n",
    "    # Define the models\n",
    "    models = {\n",
    "        'Linear Regression': LinearRegression(),\n",
    "        'Lasso': Lasso(),\n",
    "        'ElasticNet': ElasticNet()\n",
    "    }\n",
    "\n",
    "    # Get the column names\n",
    "    column_names = dataset.columns[:-1]\n",
    "\n",
    "    # Loop over each model\n",
    "    for model_name, model in models.items():\n",
    "        print(f\"Testing {model_name}\")\n",
    "\n",
    "        # Loop over each column\n",
    "        for column in column_names:\n",
    "            # Create the features (X) and target (y)\n",
    "            X = dataset[[column]].values\n",
    "            y = dataset.iloc[:, -1].values\n",
    "\n",
    "            # Split the data into training and testing sets\n",
    "            X_train, X_test, y_train, y_test = train_test_split(X, y, test_size = 0.25, random_state = 0)\n",
    "\n",
    "            # Fit the model\n",
    "            model.fit(X_train, y_train)\n",
    "\n",
    "            # Make predictions\n",
    "            y_pred = model.predict(X_test)\n",
    "\n",
    "            # Print the R2 score\n",
    "            print(f\"R2 Score for {column}: {r2_score(y_test, y_pred)}\")\n",
    "\n",
    "            # Print the Mean Squared Error\n",
    "            print(f\"Mean Squared Error for {column}: {mean_squared_error(y_test, y_pred)}\")\n",
    "\n",
    "            # Print the Mean Absolute Error\n",
    "            print(f\"Mean Absolute Error for {column}: {mean_absolute_error(y_test, y_pred)}\")\n",
    "\n",
    "# Call the function\n",
    "test_each_column_with_models(dataset)"
   ]
  },
  {
   "cell_type": "markdown",
   "metadata": {},
   "source": [
    "### Model Predictions\n",
    "    \n",
    "    "
   ]
  },
  {
   "cell_type": "markdown",
   "metadata": {},
   "source": []
  }
 ],
 "metadata": {
  "kernelspec": {
   "display_name": "base",
   "language": "python",
   "name": "python3"
  },
  "language_info": {
   "codemirror_mode": {
    "name": "ipython",
    "version": 3
   },
   "file_extension": ".py",
   "mimetype": "text/x-python",
   "name": "python",
   "nbconvert_exporter": "python",
   "pygments_lexer": "ipython3",
   "version": "3.9.12"
  }
 },
 "nbformat": 4,
 "nbformat_minor": 2
}
